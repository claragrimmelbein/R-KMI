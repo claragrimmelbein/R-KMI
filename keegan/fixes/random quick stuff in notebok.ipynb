{
 "cells": [
  {
   "cell_type": "code",
   "execution_count": 2,
   "id": "62557d2e-ffe8-42e7-9d5e-af31cfa21a3b",
   "metadata": {
    "tags": []
   },
   "outputs": [],
   "source": [
    "import pandas as pd\n",
    "\n",
    "# Read the CSV file into a DataFrame\n",
    "df = pd.read_csv('PseudoKM15_New_FormFactor.csv') \n",
    "\n",
    "# Group by the 'set' column and get the max 'index' for each group\n",
    "max_index_per_set = df.groupby('set')['index'].max()\n",
    "\n",
    "# Sort sets by their max index value in descending order\n",
    "sorted_sets = max_index_per_set.sort_values(ascending=False)\n",
    "\n",
    "# Rearrange the original DataFrame based on the sorted order of sets\n",
    "df['max_index'] = df['set'].map(sorted_sets)\n",
    "sorted_df = df.sort_values(by=['max_index', 'set', 'index'], ascending=[False, True, True]).drop(columns='max_index')\n",
    "sorted_df = sorted_df.head(2136)\n",
    "\n",
    "# Write the rearranged DataFrame to a new CSV file\n",
    "sorted_df.to_csv('shorted_pseudoo.csv', index=False) #only first 89 sets that have the full 24 values of phi. \n",
    "\n",
    "#print(\"Data successfully rearranged and written to 'rearranged_file.csv'\")\n",
    "\n"
   ]
  },
  {
   "cell_type": "code",
   "execution_count": 2,
   "id": "e89e8fa2-7346-4ca5-a45a-b1d2d64c1d1a",
   "metadata": {
    "tags": []
   },
   "outputs": [
    {
     "name": "stdout",
     "output_type": "stream",
     "text": [
      "index\n",
      "23    89\n",
      "17    18\n",
      "19    15\n",
      "15    12\n",
      "11    10\n",
      "21     9\n",
      "18     7\n",
      "14     6\n",
      "13     4\n",
      "12     4\n",
      "22     3\n",
      "20     3\n",
      "16     3\n",
      "10     3\n",
      "9      3\n",
      "7      2\n",
      "1      1\n",
      "3      1\n",
      "6      1\n",
      "8      1\n",
      "Name: count, dtype: int64\n"
     ]
    }
   ],
   "source": [
    "import pandas as pd\n",
    "\n",
    "# Read the CSV file into a DataFrame\n",
    "df = pd.read_csv('PseudoKM15_New_FormFactor.csv')\n",
    "\n",
    "# Group by the 'set' column and get the max 'index' for each group\n",
    "max_index_per_set = df.groupby('set')['index'].max()\n",
    "\n",
    "# Print the results\n",
    "#print(max_index_per_set)\n",
    " \n",
    "# Count the occurrences of each maximum index value\n",
    "max_index_counts = max_index_per_set.value_counts()\n",
    "\n",
    "# Print the results\n",
    "#print(max_index_counts)\n"
   ]
  },
  {
   "cell_type": "code",
   "execution_count": 17,
   "id": "fb0f7862-838a-431e-a5bb-824e25c36cf5",
   "metadata": {
    "tags": []
   },
   "outputs": [
    {
     "data": {
      "text/plain": [
       "array([[0.12424   , 0.07686   , 0.06855   , ..., 0.21922   , 0.20025   ,\n",
       "        0.19887   ],\n",
       "       [0.10715   , 0.07151   , 0.0611    , ..., 0.19568001, 0.15161   ,\n",
       "        0.17154001],\n",
       "       [0.10739   , 0.06922   , 0.06426   , ..., 0.1336    , 0.11739   ,\n",
       "        0.1716    ],\n",
       "       ...,\n",
       "       [0.10377   , 0.0688    , 0.0606    , ..., 0.13887   , 0.12779   ,\n",
       "        0.17264   ],\n",
       "       [0.10769   , 0.07543   , 0.07147   , ..., 0.17449   , 0.17223001,\n",
       "        0.18411   ],\n",
       "       [0.10926   , 0.08405   , 0.07779   , ..., 0.20922001, 0.20943999,\n",
       "        0.17093   ]])"
      ]
     },
     "execution_count": 17,
     "metadata": {},
     "output_type": "execute_result"
    }
   ],
   "source": [
    "import numpy as np\n",
    "\n",
    "datafile = 'shorted_pseudoo.csv' \n",
    "def get_data():\n",
    "    df = pd.read_csv(datafile, dtype=np.float32)\n",
    "    return df\n",
    "\n",
    "\n",
    "def filter_unique_sets(df):\n",
    "    # Drop duplicate rows based on the first column\n",
    "    unique_rows = df.drop_duplicates(subset=df.columns[0])\n",
    "    return unique_rows \n",
    "first = get_data()\n",
    "pseudo = filter_unique_sets(first) \n",
    "PHI = first['phi'].head(24).to_numpy()\n",
    "#pseudo\n",
    "PHI\n",
    "FFF = first['F']#.iloc(2)\n",
    "FFF_error = first['sigmaF']\n",
    "# FFF.iloc[0]\n",
    "F_store = np.zeros((24, 89))\n",
    "F_error_store = np.zeros((24, 89) ) \n",
    "#F_first = np.zeros(89)\n",
    "for j in range(24): \n",
    "    for i in range(0,89):\n",
    "        F_store[j, i] = FFF.iloc[j+i*24]\n",
    "        F_error_store = FFF_error[j+i*24]\n",
    "#F_store"
   ]
  },
  {
   "cell_type": "code",
   "execution_count": 24,
   "id": "beb9e968-98f8-4df9-b2a2-657db8a37d99",
   "metadata": {
    "tags": []
   },
   "outputs": [
    {
     "data": {
      "text/plain": [
       "[[1, 1, 1, 1], [1, 1, 1, 1]]"
      ]
     },
     "execution_count": 24,
     "metadata": {},
     "output_type": "execute_result"
    }
   ],
   "source": [
    "F_testt = []\n",
    "F = [1, 1, 1, 1]\n",
    "F_testt+=[F] \n",
    "F_testt+=[F]\n",
    "#F_testt+=[[1, 1,1 ,1 ,1, ]]\n",
    "F_testt"
   ]
  },
  {
   "cell_type": "code",
   "execution_count": 18,
   "id": "1ca37f7b-53ce-466f-b9ba-ccc9d1edeb03",
   "metadata": {
    "tags": []
   },
   "outputs": [
    {
     "name": "stdout",
     "output_type": "stream",
     "text": [
      "10\n",
      "9\n",
      "8\n",
      "7\n",
      "6\n",
      "5\n",
      "4\n",
      "3\n",
      "2\n",
      "1\n"
     ]
    }
   ],
   "source": [
    "for i in range(10, 0, -1):\n",
    "    print(i)"
   ]
  },
  {
   "cell_type": "code",
   "execution_count": null,
   "id": "9e67a3aa-ee8d-491b-ad59-cc6030aec890",
   "metadata": {},
   "outputs": [],
   "source": []
  },
  {
   "cell_type": "code",
   "execution_count": null,
   "id": "6593b518-cfab-4e9d-97dc-c07f38c22791",
   "metadata": {},
   "outputs": [],
   "source": []
  },
  {
   "cell_type": "code",
   "execution_count": 1,
   "id": "1105da66-0331-47e4-8dc7-0b42ec7506b6",
   "metadata": {
    "tags": []
   },
   "outputs": [
    {
     "name": "stdout",
     "output_type": "stream",
     "text": [
      "Mean: 0.019995791505791505\n",
      "Standard Deviation: 0.024691212790290115\n",
      "Range: 0.17863\n"
     ]
    }
   ],
   "source": [
    "import pandas as pd\n",
    "\n",
    "# Assuming you have a CSV file to read the DataFrame from\n",
    "df = pd.read_csv('PseudoKM15_New_FormFactor.csv') \n",
    "\n",
    "# Selecting the 'dvcs' column\n",
    "dvcs_column = df['dvcs']\n",
    "\n",
    "# Calculating the mean\n",
    "mean_value = dvcs_column.mean()\n",
    "\n",
    "# Calculating the standard deviation\n",
    "std_dev = dvcs_column.std()\n",
    "\n",
    "# Calculating the range\n",
    "range_value = dvcs_column.max() - dvcs_column.min()\n",
    "\n",
    "print(f\"Mean: {mean_value}\")\n",
    "print(f\"Standard Deviation: {std_dev}\")\n",
    "print(f\"Range: {range_value}\")\n"
   ]
  },
  {
   "cell_type": "code",
   "execution_count": 1,
   "id": "59de38f4-e4af-4662-a414-714165ddbbbe",
   "metadata": {
    "tags": []
   },
   "outputs": [
    {
     "name": "stdout",
     "output_type": "stream",
     "text": [
      "Mean: 0.019995791505791505\n",
      "Standard Deviation: 0.024691212790290115\n",
      "Range: 0.17863\n",
      "   set  index     k    QQ     xB      t   phi        F   sigmaF  errF  \\\n",
      "0    1      0  5.75  1.82  0.343 -0.172   7.5  0.12424  0.00576  0.05   \n",
      "1    1      1  5.75  1.82  0.343 -0.172  22.5  0.10715  0.00554  0.05   \n",
      "2    1      2  5.75  1.82  0.343 -0.172  37.5  0.10739  0.00517  0.05   \n",
      "3    1      3  5.75  1.82  0.343 -0.172  52.5  0.08818  0.00472  0.05   \n",
      "4    1      4  5.75  1.82  0.343 -0.172  67.5  0.08519  0.00426  0.05   \n",
      "\n",
      "        F1       F2      ReH      ReE  ReHtilde  dvcs  \n",
      "0  0.68309  1.09312 -2.56442  2.21195   1.39564   0.0  \n",
      "1  0.68309  1.09312 -2.56442  2.21195   1.39564   0.0  \n",
      "2  0.68309  1.09312 -2.56442  2.21195   1.39564   0.0  \n",
      "3  0.68309  1.09312 -2.56442  2.21195   1.39564   0.0  \n",
      "4  0.68309  1.09312 -2.56442  2.21195   1.39564   0.0  \n"
     ]
    }
   ],
   "source": [
    "#for making changes to dvcs pseudo \n",
    "\n",
    "import pandas as pd\n",
    "import numpy as np\n",
    "\n",
    "# Assuming you have a CSV file to read the DataFrame from\n",
    "df = pd.read_csv('PseudoKM15_New_FormFactor.csv')\n",
    "\n",
    "# Selecting the 'dvcs' column\n",
    "dvcs_column = df['dvcs']\n",
    "\n",
    "# Calculating the mean\n",
    "mean_value = dvcs_column.mean()\n",
    "\n",
    "# Calculating the standard deviation\n",
    "std_dev = dvcs_column.std()\n",
    "\n",
    "# Calculating the range\n",
    "range_value = dvcs_column.max() - dvcs_column.min()\n",
    "\n",
    "print(f\"Mean: {mean_value}\")\n",
    "print(f\"Standard Deviation: {std_dev}\")\n",
    "print(f\"Range: {range_value}\")\n",
    "\n",
    "# Replacing the 'dvcs' column with random values from a Gaussian distribution\n",
    "df_copy = df.copy()\n",
    "#df_copy['dvcs'] = np.random.normal(loc=mean_value, scale=std_dev, size=len(dvcs_column)) \n",
    "df_copy['dvcs'] = np.ones(len(dvcs_column))*mean_value\n",
    "df_copy['dvcs'] = np.zeros(len(dvcs_column))*mean_value\n",
    "\n",
    "# Saving the new DataFrame to a new CSV file\n",
    "#df_copy.to_csv('Pseudo_rand_dvcs.csv', index=False) \n",
    "#df_copy.to_csv('Pseudo_const_dvcs.csv', index=False)\n",
    "df_copy.to_csv('Pseudo_zero_dvcs.csv', index=False)\n",
    "\n",
    "# Displaying the first few rows of the new DataFrame\n",
    "print(df_copy.head())  \n",
    "\n"
   ]
  },
  {
   "cell_type": "code",
   "execution_count": 2,
   "id": "0e146603-8b59-44c1-a4bf-21e008836157",
   "metadata": {
    "tags": []
   },
   "outputs": [
    {
     "name": "stdout",
     "output_type": "stream",
     "text": [
      "   set  index     k    QQ     xB      t   phi        F   sigmaF  errF  \\\n",
      "0    1      0  5.75  1.82  0.343 -0.172   7.5  0.12424  0.00576  0.05   \n",
      "1    1      1  5.75  1.82  0.343 -0.172  22.5  0.10715  0.00554  0.05   \n",
      "2    1      2  5.75  1.82  0.343 -0.172  37.5  0.10739  0.00517  0.05   \n",
      "3    1      3  5.75  1.82  0.343 -0.172  52.5  0.08818  0.00472  0.05   \n",
      "4    1      4  5.75  1.82  0.343 -0.172  67.5  0.08519  0.00426  0.05   \n",
      "\n",
      "        F1       F2       ReH       ReE  ReHtilde     dvcs  \n",
      "0  0.68309  1.09312 -2.505512  1.847507  1.004808  0.03159  \n",
      "1  0.68309  1.09312 -2.505512  1.847507  1.004808  0.03159  \n",
      "2  0.68309  1.09312 -2.505512  1.847507  1.004808  0.03159  \n",
      "3  0.68309  1.09312 -2.505512  1.847507  1.004808  0.03159  \n",
      "4  0.68309  1.09312 -2.505512  1.847507  1.004808  0.03159  \n"
     ]
    }
   ],
   "source": [
    "#for making changes to dvcs pseudo \n",
    "\n",
    "import pandas as pd\n",
    "import numpy as np\n",
    "\n",
    "# Assuming you have a CSV file to read the DataFrame from\n",
    "df = pd.read_csv('PseudoKM15_New_FormFactor.csv')\n",
    "\n",
    "# Selecting the 'dvcs' column\n",
    "ReH_column = df['ReH'] \n",
    "ReE_column = df['ReE']\n",
    "ReHt_column = df['ReHtilde']\n",
    "\n",
    "# Calculating the mean\n",
    "ReHmean_value = ReH_column.mean()\n",
    "ReEmean_value = ReE_column.mean()\n",
    "ReHtmean_value = ReHt_column.mean()\n",
    "\n",
    "# Calculating the standard deviation\n",
    "rehstd_dev = ReH_column.std() \n",
    "reestd_dev = ReE_column.std()\n",
    "rehtstd_dev = ReHt_column.std()\n",
    "\n",
    "# Calculating the range\n",
    "range_value = ReH_column.max() - ReH_column.min()\n",
    "\n",
    "# print(f\"Mean: {mean_value}\")\n",
    "#print(f\"Standard Deviation: {std_dev}\")\n",
    "#print(f\"Range: {range_value}\")\n",
    "\n",
    "# Replacing the 'dvcs' column with random values from a Gaussian distribution\n",
    "df_copy = df.copy()\n",
    "#df_copy['dvcs'] = np.random.normal(loc=mean_value, scale=std_dev, size=len(dvcs_column)) \n",
    "#df_copy['dvcs'] = np.ones(len(dvcs_column))*mean_value\n",
    "df_copy['ReH'] = np.random.normal(loc=ReHmean_value, scale=rehstd_dev, size=len(ReH_column)) \n",
    "df_copy['ReE'] = np.random.normal(loc=ReEmean_value, scale=reestd_dev, size=len(ReH_column))\n",
    "df_copy['ReHtilde'] = np.random.normal(loc=ReHtmean_value, scale=rehtstd_dev, size=len(ReH_column))\n",
    "\n",
    "df_copy['ReH'] = np.ones(len(ReH_column))*ReHmean_value #np.random.normal(loc=ReHmean_value, scale=rehstd_dev, size=len(ReH_column)) \n",
    "df_copy['ReE'] = np.ones(len(ReH_column))*ReEmean_value\n",
    "df_copy['ReHtilde'] = np.ones(len(ReH_column))*ReHtmean_value\n",
    "\n",
    "# Saving the new DataFrame to a new CSV file\n",
    "#df_copy.to_csv('Pseudo_rand_dvcs.csv', index=False) \n",
    "#df_copy.to_csv('Pseudo_const_dvcs.csv', index=False)\n",
    "# df_copy.to_csv('Pseudo_randcff.csv', index=False) \n",
    "df_copy.to_csv('Pseudo_constcff.csv', index=False)\n",
    "\n",
    "# Displaying the first few rows of the new DataFrame\n",
    "print(df_copy.head())  "
   ]
  },
  {
   "cell_type": "code",
   "execution_count": null,
   "id": "c9af5397-c99b-455e-a75b-a70c5b2bfc8e",
   "metadata": {},
   "outputs": [],
   "source": []
  }
 ],
 "metadata": {
  "kernelspec": {
   "display_name": "Tensorflow 2.17.0",
   "language": "python",
   "name": "tensorflow-2.17.0"
  },
  "language_info": {
   "codemirror_mode": {
    "name": "ipython",
    "version": 3
   },
   "file_extension": ".py",
   "mimetype": "text/x-python",
   "name": "python",
   "nbconvert_exporter": "python",
   "pygments_lexer": "ipython3",
   "version": "3.12.3"
  }
 },
 "nbformat": 4,
 "nbformat_minor": 5
}
